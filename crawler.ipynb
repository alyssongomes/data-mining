{
 "cells": [
  {
   "cell_type": "markdown",
   "metadata": {},
   "source": [
    "## Streamming de dados do Twitter"
   ]
  },
  {
   "cell_type": "code",
   "execution_count": 1,
   "metadata": {
    "collapsed": true
   },
   "outputs": [],
   "source": [
    "from tweepy.streaming import StreamListener\n",
    "from tweepy import OAuthHandler\n",
    "from tweepy import Stream\n",
    "from pymongo import MongoClient\n",
    "import json"
   ]
  },
  {
   "cell_type": "code",
   "execution_count": null,
   "metadata": {
    "collapsed": true
   },
   "outputs": [],
   "source": [
    "# Credenciais\n",
    "consumer_key = \"consumer key\"\n",
    "consumer_secret = \"consumer secret\"\n",
    "access_token = \"accesse token\"\n",
    "access_token_secret = \"access token secret\""
   ]
  },
  {
   "cell_type": "code",
   "execution_count": null,
   "metadata": {
    "collapsed": true
   },
   "outputs": [],
   "source": [
    "# Autenticação e token de acesso a API\n",
    "auth = OAuthHandler(consumer_key,consumer_secret)\n",
    "auth.set_access_token(access_token,access_token_secret)"
   ]
  },
  {
   "cell_type": "code",
   "execution_count": null,
   "metadata": {
    "collapsed": true
   },
   "outputs": [],
   "source": [
    "# Listener de captura do Tweet e de registro no MongoDB\n",
    "class Listener(StreamListener):\n",
    "    qtd = 0\n",
    "    def on_data(self,dados):\n",
    "        tweet = json.loads(dados)\n",
    "        collection.insert_one(tweet).inserted_id\n",
    "        self.qtd += 1\n",
    "        if self.qtd % 100 == 0:\n",
    "            print(\"Salvou mais 100 ...\")\n",
    "        return True"
   ]
  },
  {
   "cell_type": "code",
   "execution_count": null,
   "metadata": {
    "collapsed": true
   },
   "outputs": [],
   "source": [
    "listener = Listener()\n",
    "stream = Stream(auth,listener=listener)"
   ]
  },
  {
   "cell_type": "code",
   "execution_count": null,
   "metadata": {
    "collapsed": true
   },
   "outputs": [],
   "source": [
    "client = MongoClient('localhost',27017) #Criando conexão\n",
    "db = client.politica #criando banco\n",
    "collection = db.tweets #criando coleção"
   ]
  },
  {
   "cell_type": "code",
   "execution_count": null,
   "metadata": {
    "collapsed": true
   },
   "outputs": [],
   "source": [
    "# Lista de hashtags\n",
    "keywords = [\"Lula\" , \"JairBolsonaro\" , \"Bolsonaro\" , \"GeraldoAlckmin\" , \"MarinaSilva\" , \"CiroGomes\" , \"ManuelaDÁvila\" , \"ManuelaDAvila\" , \"ÁlvaroDias\" , \"AlvaroDias\" , \"PauloRabellodeCastro\"  , \"PauloRabello\" , \"HenriqueMeirelles\" , \"MichelTemer\" , \"Temer\" , \"FernandoCollordeMello\" , \"CollordeMello\" , \"Dr.Rey\" , \"DrRey\" , \"eleicoes2018\" , \"eleicoes\"]"
   ]
  },
  {
   "cell_type": "code",
   "execution_count": null,
   "metadata": {
    "collapsed": true
   },
   "outputs": [],
   "source": [
    "#Iniciar a filtragem de tweets\n",
    "mystream.filter(track=keywords)"
   ]
  }
 ],
 "metadata": {
  "kernelspec": {
   "display_name": "Python 3",
   "language": "python",
   "name": "python3"
  },
  "language_info": {
   "codemirror_mode": {
    "name": "ipython",
    "version": 3
   },
   "file_extension": ".py",
   "mimetype": "text/x-python",
   "name": "python",
   "nbconvert_exporter": "python",
   "pygments_lexer": "ipython3",
   "version": "3.6.3"
  }
 },
 "nbformat": 4,
 "nbformat_minor": 2
}
