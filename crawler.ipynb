{
 "cells": [
  {
   "cell_type": "markdown",
   "metadata": {},
   "source": [
    "## Streamming de dados do Twitter"
   ]
  },
  {
   "cell_type": "code",
   "execution_count": 1,
   "metadata": {
    "collapsed": true
   },
   "outputs": [],
   "source": [
    "from tweepy.streaming import StreamListener\n",
    "from tweepy import OAuthHandler\n",
    "from tweepy import Stream\n",
    "from datetime import datetime\n",
    "from pymongo import MongoClient\n",
    "import pandas as pd\n",
    "import json"
   ]
  },
  {
   "cell_type": "code",
   "execution_count": null,
   "metadata": {
    "collapsed": true
   },
   "outputs": [],
   "source": [
    "# Credenciais\n",
    "consumer_key = \"8FrLebpp2vhTCjun1JLj3gmlp\"\n",
    "consumer_secret = \"WrZQfKYPi47nk8SSj5VfZtZh3wEECjRbBIddcEimuKbI0v2iCb\"\n",
    "acess_token = \"4685391175-KslimI482y8rpeJDe4ADO5FQFMKp1IvgfnNEKa6\"\n",
    "acess_token_secret = \"y6dRoSFmdGnmVwzw0MRHWWxRYOBA3bPKUFFLvBoS6HPRC\""
   ]
  },
  {
   "cell_type": "code",
   "execution_count": null,
   "metadata": {
    "collapsed": true
   },
   "outputs": [],
   "source": [
    "# Autenticação e token de acesso a API\n",
    "auth = OAuthHandler(consumer_key,consumer_secret)\n",
    "auth.set_access_token(acess_token,acess_token_secret)"
   ]
  },
  {
   "cell_type": "code",
   "execution_count": null,
   "metadata": {
    "collapsed": true
   },
   "outputs": [],
   "source": [
    "# Listener de captura do Tweet e de registro no MongoDB\n",
    "class Listener(StreamListener):\n",
    "    qtd = 0\n",
    "    def on_data(self,dados):\n",
    "        tweet = json.loads(dados)\n",
    "        collection.insert_one(tweet).inserted_id\n",
    "        self.qtd += 1\n",
    "        if self.qtd % 100 == 0:\n",
    "            print(\"Salvou mais 100 ...\")\n",
    "        return True"
   ]
  },
  {
   "cell_type": "code",
   "execution_count": null,
   "metadata": {
    "collapsed": true
   },
   "outputs": [],
   "source": [
    "listener = Listener()\n",
    "stream = Stream(auth,listener=listener)"
   ]
  },
  {
   "cell_type": "code",
   "execution_count": null,
   "metadata": {
    "collapsed": true
   },
   "outputs": [],
   "source": [
    "client = MongoClient('localhost',27017) #Criando conexão\n",
    "db = client.politica #criando banco\n",
    "collection = db.tweets #criando coleção"
   ]
  },
  {
   "cell_type": "code",
   "execution_count": null,
   "metadata": {
    "collapsed": true
   },
   "outputs": [],
   "source": [
    "# Lista de hashtags\n",
    "keywords = [\"Lula\" , \"JairBolsonaro\" , \"Bolsonaro\" , \"GeraldoAlckmin\" , \"MarinaSilva\" , \"CiroGomes\" , \"ManuelaDÁvila\" , \"ManuelaDAvila\" , \"ÁlvaroDias\" , \"AlvaroDias\" , \"PauloRabellodeCastro\"  , \"PauloRabello\" , \"HenriqueMeirelles\" , \"MichelTemer\" , \"Temer\" , \"FernandoCollordeMello\" , \"CollordeMello\" , \"Dr.Rey\" , \"DrRey\" , \"eleicoes2018\" , \"eleicoes\"]"
   ]
  },
  {
   "cell_type": "code",
   "execution_count": null,
   "metadata": {
    "collapsed": true
   },
   "outputs": [],
   "source": [
    "#Iniciar a filtragem de tweets\n",
    "mystream.filter(track=keywords)"
   ]
  }
 ],
 "metadata": {
  "kernelspec": {
   "display_name": "Python 3",
   "language": "python",
   "name": "python3"
  },
  "language_info": {
   "codemirror_mode": {
    "name": "ipython",
    "version": 3
   },
   "file_extension": ".py",
   "mimetype": "text/x-python",
   "name": "python",
   "nbconvert_exporter": "python",
   "pygments_lexer": "ipython3",
   "version": "3.6.3"
  }
 },
 "nbformat": 4,
 "nbformat_minor": 2
}
